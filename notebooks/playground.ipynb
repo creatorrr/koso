{
 "cells": [
  {
   "cell_type": "code",
   "execution_count": 1,
   "metadata": {},
   "outputs": [],
   "source": [
    "from dataclasses import dataclass, field\n",
    "\n",
    "from pycozo.builder import *"
   ]
  },
  {
   "cell_type": "code",
   "execution_count": 2,
   "metadata": {},
   "outputs": [],
   "source": [
    "class _Query:\n",
    "    def __lshift__(self, other):\n",
    "        match other:\n",
    "            case int() | float() | str() | bool() | None:\n",
    "                return Const(other)\n",
    "            case list() if all(\n",
    "                type(item) in (ConstantRule, InlineRule, FixedRule) for item in other\n",
    "            ):\n",
    "                return InputProgram(rules=list(other))\n",
    "            case tuple() if all(\n",
    "                type(item) in (ConstantRule, InlineRule, FixedRule) for item in other\n",
    "            ):\n",
    "                return InputProgram(rules=list(other))\n",
    "            case [*items]:\n",
    "                return InputList([self << item for item in items])\n",
    "            case _:\n",
    "                raise Exception(\"Invalid input type\")\n",
    "\n",
    "\n",
    "Query = _Query()"
   ]
  },
  {
   "cell_type": "code",
   "execution_count": 3,
   "metadata": {},
   "outputs": [],
   "source": [
    "from functools import wraps\n",
    "import inspect\n",
    "\n",
    "\n",
    "def query(spec_fn):\n",
    "    # Get the signature of spec_fn\n",
    "    sig = inspect.signature(spec_fn)\n",
    "\n",
    "    # Get the keyword only arguments from signature\n",
    "    var_names = [p.name for p in sig.parameters.values() if p.kind == p.KEYWORD_ONLY]\n",
    "\n",
    "    # Create Var objects for each keyword only argument\n",
    "    vars = {name: Var(name) for name in var_names}\n",
    "\n",
    "    # Create a wrapper function that takes a single input and returns a query\n",
    "    @wraps(spec_fn)\n",
    "    def wrapper(input):\n",
    "        return Query << spec_fn(input, **vars)\n",
    "\n",
    "    # Create a wrapper function that takes no input and returns a query\n",
    "    @wraps(spec_fn)\n",
    "    def wrapper_no_input():\n",
    "        return Query << spec_fn(**vars)\n",
    "\n",
    "    # Handle which variant of the wrapper function to return\n",
    "    ...\n",
    "\n",
    "    return wrapper_no_input"
   ]
  },
  {
   "cell_type": "code",
   "execution_count": 4,
   "metadata": {},
   "outputs": [],
   "source": [
    "@dataclass\n",
    "class RuleThunk:\n",
    "    rule_name: str\n",
    "    vars: list[str] = field(default_factory=list)\n",
    "\n",
    "    def __call__(self):\n",
    "        return RuleHead(self.rule_name, self.vars)\n",
    "\n",
    "    def __le__(self, input_list: InputList | list[list[Any]]):\n",
    "        match input_list:\n",
    "            case list() if all(type(item) == list for item in input_list):\n",
    "                return ConstantRule(self(), Query << input_list)\n",
    "            case InputList():\n",
    "                return ConstantRule(self(), input_list)\n",
    "\n",
    "\n",
    "class _Q:\n",
    "    def __getitem__(self, items: str | Var | list[str | Var] | tuple[str | Var]):\n",
    "        vars: list[str] = []\n",
    "        items = list(items) if isinstance(items, tuple) else items\n",
    "        items = [items] if not isinstance(items, list) else items\n",
    "\n",
    "        for var in items:\n",
    "            if isinstance(var, str):\n",
    "                vars.append(var)\n",
    "            else:\n",
    "                vars.append(var.name)\n",
    "\n",
    "        return RuleThunk(\n",
    "            rule_name=\"?\",\n",
    "            vars=vars,\n",
    "        )\n",
    "\n",
    "\n",
    "Q = _Q()"
   ]
  },
  {
   "cell_type": "code",
   "execution_count": 7,
   "metadata": {},
   "outputs": [],
   "source": [
    "@query\n",
    "def example(*, artist, last_name):\n",
    "    return (\n",
    "        # ?[artist, last_name] <- [[\"lady\", \"gaga\"], [\"michael\", \"jackson\"]]\n",
    "        Q[artist, last_name] <= [[\"lady\", \"gaga\"], [\"michael\", \"jackson\"]],\n",
    "    )"
   ]
  },
  {
   "cell_type": "code",
   "execution_count": 6,
   "metadata": {},
   "outputs": [
    {
     "data": {
      "text/plain": [
       "'?[artist, last_name] <-\\n    [[\"lady\", \"gaga\"], [\"michael\", \"jackson\"]]'"
      ]
     },
     "execution_count": 6,
     "metadata": {},
     "output_type": "execute_result"
    }
   ],
   "source": [
    "str(example())"
   ]
  },
  {
   "cell_type": "code",
   "execution_count": null,
   "metadata": {},
   "outputs": [],
   "source": []
  }
 ],
 "metadata": {
  "kernelspec": {
   "display_name": ".venv",
   "language": "python",
   "name": "python3"
  },
  "language_info": {
   "codemirror_mode": {
    "name": "ipython",
    "version": 3
   },
   "file_extension": ".py",
   "mimetype": "text/x-python",
   "name": "python",
   "nbconvert_exporter": "python",
   "pygments_lexer": "ipython3",
   "version": "3.10.12"
  }
 },
 "nbformat": 4,
 "nbformat_minor": 2
}
